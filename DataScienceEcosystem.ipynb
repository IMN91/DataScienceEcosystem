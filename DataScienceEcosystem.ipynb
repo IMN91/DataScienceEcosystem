{
 "cells": [
  {
   "cell_type": "markdown",
   "id": "6b232db7-6bea-43b8-8446-6ff6973e0f85",
   "metadata": {
    "tags": []
   },
   "source": [
    "# In this notebook, Data Science Tools and Ecosystem are summarized."
   ]
  },
  {
   "cell_type": "markdown",
   "id": "95af5e68-882b-415a-bc8f-485f7e5646e9",
   "metadata": {},
   "source": [
    "**objectives**\n",
    "- list populat languages for data science\n",
    "- list popular libraries for data science\n",
    "- create a table for popular tools in data science\n",
    "- write an arithmatic operation \n",
    "- convert minutes into hours"
   ]
  },
  {
   "cell_type": "markdown",
   "id": "7fa1b11c-d1a5-4a22-be88-94e8f7c6064f",
   "metadata": {},
   "source": [
    "Some of the popular languages that Data Scientists use are:\n",
    "1. Python\n",
    "2. SQL\n",
    "3. R"
   ]
  },
  {
   "cell_type": "markdown",
   "id": "7695434c-2e31-46c3-bb7a-03e340d84591",
   "metadata": {},
   "source": [
    "Some of the commonly used libraries used by Data Scientists include:\n",
    "1. pandas\n",
    "2. tensorflow\n",
    "3. scikit"
   ]
  },
  {
   "cell_type": "markdown",
   "id": "c1f73d59-e036-4a7d-9c05-3d8ce9a35a22",
   "metadata": {},
   "source": [
    "| data science tools |\n",
    "| ----- |\n",
    "| Hadoop |\n",
    "| apache airflow |\n",
    "| pixie dust |"
   ]
  },
  {
   "cell_type": "markdown",
   "id": "24ea93f4-9deb-4b31-bda8-3c66c2a71277",
   "metadata": {},
   "source": [
    "### Below are a few examples of evaluating arithmetic expressions in Python"
   ]
  },
  {
   "cell_type": "code",
   "execution_count": 2,
   "id": "49155f5c-8633-45e5-9cdc-2dc1efac408c",
   "metadata": {
    "tags": []
   },
   "outputs": [
    {
     "data": {
      "text/plain": [
       "17"
      ]
     },
     "execution_count": 2,
     "metadata": {},
     "output_type": "execute_result"
    }
   ],
   "source": [
    "# This a simple arithmetic expression to mutiply then add integers\n",
    "(3*4)+5"
   ]
  },
  {
   "cell_type": "code",
   "execution_count": 4,
   "id": "a839d492-b7b3-4eb6-b293-1fa54da28d0b",
   "metadata": {
    "tags": []
   },
   "outputs": [
    {
     "name": "stdout",
     "output_type": "stream",
     "text": [
      "3.3333333333333335\n"
     ]
    }
   ],
   "source": [
    "# This will convert 200 minutes to hours by diving by 60\n",
    "# h is the hours \n",
    "# m  is the minutes\n",
    "m=200\n",
    "h=m/60\n",
    "print(h)"
   ]
  },
  {
   "cell_type": "markdown",
   "id": "987f70fc-0cf7-4022-b760-f5450a233803",
   "metadata": {},
   "source": [
    "## author\n",
    "Imad Abrao Nemeir"
   ]
  },
  {
   "cell_type": "code",
   "execution_count": null,
   "id": "059b3307-984e-4f70-b75b-ec294433b15d",
   "metadata": {},
   "outputs": [],
   "source": []
  }
 ],
 "metadata": {
  "kernelspec": {
   "display_name": "Python 3 (ipykernel)",
   "language": "python",
   "name": "python3"
  },
  "language_info": {
   "codemirror_mode": {
    "name": "ipython",
    "version": 3
   },
   "file_extension": ".py",
   "mimetype": "text/x-python",
   "name": "python",
   "nbconvert_exporter": "python",
   "pygments_lexer": "ipython3",
   "version": "3.11.5"
  }
 },
 "nbformat": 4,
 "nbformat_minor": 5
}
